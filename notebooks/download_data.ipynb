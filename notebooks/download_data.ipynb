{
 "cells": [
  {
   "cell_type": "markdown",
   "metadata": {},
   "source": [
    "## Requirements\n",
    "```\n",
    "pip install azure-storage-blob python-dotenv\n",
    "```"
   ]
  },
  {
   "cell_type": "code",
   "execution_count": 1,
   "metadata": {},
   "outputs": [],
   "source": [
    "%reload_ext autoreload\n",
    "%autoreload 2"
   ]
  },
  {
   "cell_type": "code",
   "execution_count": 2,
   "metadata": {},
   "outputs": [],
   "source": [
    "# use label csv, download data and store into local path\n",
    "import os\n",
    "from pathlib import Path\n",
    "import sys\n",
    "if \"..\" not in sys.path:\n",
    "    sys.path.append(\"..\")  # Append pieye module root to sys.path\n",
    "\n",
    "from azure.storage.blob import BlobProperties, BlobServiceClient, ContainerClient\n",
    "from dotenv import load_dotenv\n",
    "\n",
    "from pieye.data import one_hot_encode_azureml_data_labels\n",
    "\n",
    "load_dotenv()\n",
    "\n",
    "\n",
    "STORAGE_NAME = \"conveyorbeltstrg\"\n",
    "STORAGE_KEY = os.getenv(\"BLOB_STORAGE_KEY\")\n",
    "CONTAINER_NAME = \"data\"\n",
    "DOWNLOAD_DIR = \"../../data/images\""
   ]
  },
  {
   "cell_type": "code",
   "execution_count": 3,
   "metadata": {},
   "outputs": [],
   "source": [
    "classes = [\"empty\", \"bag\", \"damaged_bag\", \"stacked_bag\", \"others\"]"
   ]
  },
  {
   "cell_type": "markdown",
   "metadata": {},
   "source": [
    "## Download from Blob Storage"
   ]
  },
  {
   "cell_type": "code",
   "execution_count": 4,
   "metadata": {},
   "outputs": [],
   "source": [
    "image_filepaths, labels = one_hot_encode_azureml_data_labels(\n",
    "    \"../../data/labeledDatapoints.csv\",\n",
    "    classes=classes,\n",
    "    returns_full_path=True,\n",
    ")"
   ]
  },
  {
   "cell_type": "code",
   "execution_count": 5,
   "metadata": {},
   "outputs": [
    {
     "data": {
      "text/plain": [
       "0      unlabeled/ECAM001/2024091817/36/vid-2024091817...\n",
       "1      unlabeled/ECAM001/2024091817/35/vid-2024091817...\n",
       "2      unlabeled/ECAM001/2024091817/35/vid-2024091817...\n",
       "3      unlabeled/ECAM001/2024091817/36/vid-2024091817...\n",
       "4      unlabeled/ECAM001/2024091817/35/vid-2024091817...\n",
       "                             ...                        \n",
       "386    unlabeled/ECAM001/2024091817/36/vid-2024091817...\n",
       "387    unlabeled/ECAM001/2024091817/37/vid-2024091817...\n",
       "388    unlabeled/ECAM001/2024091817/38/vid-2024091817...\n",
       "389    unlabeled/ECAM001/2024091817/36/vid-2024091817...\n",
       "390    unlabeled/ECAM001/2024091817/39/vid-2024091817...\n",
       "Name: Url, Length: 391, dtype: object"
      ]
     },
     "execution_count": 5,
     "metadata": {},
     "output_type": "execute_result"
    }
   ],
   "source": [
    "image_filepaths"
   ]
  },
  {
   "cell_type": "code",
   "execution_count": 6,
   "metadata": {},
   "outputs": [],
   "source": [
    "account_url = f\"https://{STORAGE_NAME}.blob.core.windows.net\"\n",
    "\n",
    "with BlobServiceClient(account_url=account_url, credential=STORAGE_KEY) as blob_service_client:\n",
    "    with blob_service_client.get_container_client(CONTAINER_NAME) as container_client:\n",
    "\n",
    "        for filepath in image_filepaths:\n",
    "            filename = filepath.split(\"/\")[-1]\n",
    "            with container_client.get_blob_client(filepath) as blob_client:\n",
    "                download_file_path = Path(DOWNLOAD_DIR, filename)\n",
    "                # Create local directories if they do not exist\n",
    "                Path.mkdir(download_file_path.parent, parents=True, exist_ok=True)\n",
    "                with open(download_file_path, \"wb\") as download_file:\n",
    "                    try:\n",
    "                        download_file.write(blob_client.download_blob().readall())\n",
    "                    except Exception as e:\n",
    "                        print(e)"
   ]
  },
  {
   "cell_type": "code",
   "execution_count": null,
   "metadata": {},
   "outputs": [],
   "source": []
  }
 ],
 "metadata": {
  "kernelspec": {
   "display_name": "pi-eye",
   "language": "python",
   "name": "python3"
  },
  "language_info": {
   "codemirror_mode": {
    "name": "ipython",
    "version": 3
   },
   "file_extension": ".py",
   "mimetype": "text/x-python",
   "name": "python",
   "nbconvert_exporter": "python",
   "pygments_lexer": "ipython3",
   "version": "3.10.14"
  }
 },
 "nbformat": 4,
 "nbformat_minor": 2
}
