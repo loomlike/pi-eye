{
 "cells": [
  {
   "cell_type": "markdown",
   "metadata": {},
   "source": [
    "https://docs.opencv.org/3.4/d3/dc1/tutorial_basic_linear_transform.html\n",
    "\n",
    "image sharpness  - `dst = cv2.detailEnhance(src, sigma_s=10, sigma_r=0.15)`\n",
    "\n",
    "camera gain\n",
    "```\n",
    "cv::VideoCapture::set(CV_CAP_PROP_EXPOSURE, value from 0 to 1)\n",
    "cv::VideoCapture::set(CV_CAP_PROP_GAIN, value from 0 to 1)\n",
    "```"
   ]
  },
  {
   "cell_type": "code",
   "execution_count": 1,
   "metadata": {},
   "outputs": [],
   "source": [
    "%reload_ext autoreload\n",
    "%autoreload 2"
   ]
  },
  {
   "cell_type": "code",
   "execution_count": 2,
   "metadata": {},
   "outputs": [],
   "source": [
    "import sys\n",
    "if \"..\" not in sys.path:\n",
    "    sys.path.append(\"..\")  # Append pieye module root to sys.path\n",
    "\n",
    "import cv2\n",
    "import IPython.display as ipython\n",
    "import numpy as np\n",
    "from PIL import Image\n",
    "\n",
    "# from pieye.video import play\n",
    "from pieye.utils import bounding_boxes"
   ]
  },
  {
   "cell_type": "code",
   "execution_count": 3,
   "metadata": {},
   "outputs": [],
   "source": [
    "import os\n",
    "import threading\n",
    "from time import sleep\n",
    "from typing import Tuple\n",
    "\n",
    "from libcamera import controls\n",
    "from picamera2 import Picamera2\n",
    "\n",
    "\n",
    "class VideoCapture(threading.Thread):\n",
    "    def __init__(self, cam):\n",
    "        super().__init__()\n",
    "        self.cam = cam\n",
    "        self.frame = None\n",
    "        self.capture = False\n",
    "    \n",
    "    def run(self):\n",
    "        try:\n",
    "            while self.capture:\n",
    "                self.frame = self.cam.capture_array()\n",
    "        finally:\n",
    "            pass\n",
    "\n",
    "    def start(self):\n",
    "        self.capture = True\n",
    "\n",
    "        # There are three autoFocus modes: Manual, Auto, and Continuous\n",
    "        self.cam.set_controls({\"AfMode\": controls.AfModeEnum.Continuous})\n",
    "        # for auto: success = picam2.autofocus_cycle() to trigger focus cycle.\n",
    "        # e.g. \n",
    "        # job = picam2.autofocus_cycle(wait=False)\n",
    "        # Now do some other things, and when you finally want to be sure the autofocus cycle is finished:\n",
    "        # success = picam2.wait(job)\n",
    "        self.cam.start()\n",
    "        sleep(1)  # delay for starting the cam\n",
    "        super().start()\n",
    "    \n",
    "    def stop(self):\n",
    "        self.capture = False\n",
    "        self.join()\n",
    "        self.cam.stop()\n",
    "\n",
    "\n",
    "class Camera():\n",
    "    def __init__(self, resolution: Tuple = (320, 320)):\n",
    "        self.cam = Picamera2()\n",
    "        # Picamera2.create_preview_configuration will generate a configuration suitable for displaying camera preview images on the display, or prior to capturing a still image\n",
    "        # Picamera2.create_still_configuration will generate a configuration suitable for capturing a high-resolution still image\n",
    "        # Picamera2.create_video_configuration will generate a configuration suitable for recording video files\n",
    "        self.cam.configure(self.cam.create_preview_configuration(main={\"format\": 'RGB888', \"size\": resolution}))\n",
    "        # self.cap.set(cv2.CAP_PROP_EXPOSURE, 0.5)\n",
    "        # capture.set(cv2.CAP_PROP_AUTO_EXPOSURE, 3) # auto mode\n",
    "        # capture.set(cv2.CAP_PROP_AUTO_EXPOSURE, 1) # manual mode\n",
    "        # capture.set(cv2.CAP_PROP_EXPOSURE, desired_exposure_value)\n",
    "\n",
    "        self.video_capture = None\n",
    "    \n",
    "    def start(self):\n",
    "        self.stop()\n",
    "        self.video_capture = VideoCapture(self.cam)\n",
    "        self.video_capture.start()\n",
    "\n",
    "    def stop(self):\n",
    "        if self.video_capture is not None:\n",
    "            self.video_capture.stop()\n",
    "            self.video_capture = None\n",
    "\n",
    "    def get_frame(self):\n",
    "        if self.video_capture is not None:\n",
    "            return self.video_capture.frame\n",
    "        else:\n",
    "            return None\n",
    "\n",
    "\n",
    "    # def __enter__(self)\n",
    "    # def __exit__(self, exc_type, exc_value, traceback)"
   ]
  },
  {
   "cell_type": "code",
   "execution_count": 4,
   "metadata": {},
   "outputs": [
    {
     "name": "stderr",
     "output_type": "stream",
     "text": [
      "[0:17:14.496488172] [3707] \u001b[1;32m INFO \u001b[1;37mCamera \u001b[1;34mcamera_manager.cpp:316 \u001b[0mlibcamera v0.3.1+50-69a894c4\n",
      "[0:17:14.548167860] [3735] \u001b[1;33m WARN \u001b[1;37mRPiSdn \u001b[1;34msdn.cpp:40 \u001b[0mUsing legacy SDN tuning - please consider moving SDN inside rpi.denoise\n",
      "[0:17:14.550119201] [3735] \u001b[1;32m INFO \u001b[1;37mRPI \u001b[1;34mvc4.cpp:447 \u001b[0mRegistered camera /base/soc/i2c0mux/i2c@1/imx708@1a to Unicam device /dev/media0 and ISP device /dev/media1\n",
      "[0:17:14.550172571] [3735] \u001b[1;32m INFO \u001b[1;37mRPI \u001b[1;34mpipeline_base.cpp:1125 \u001b[0mUsing configuration file '/usr/share/libcamera/pipeline/rpi/vc4/rpi_apps.yaml'\n",
      "[0:17:14.558689658] [3707] \u001b[1;32m INFO \u001b[1;37mCamera \u001b[1;34mcamera.cpp:1191 \u001b[0mconfiguring streams: (0) 320x320-RGB888 (1) 1536x864-SBGGR10_CSI2P\n",
      "[0:17:14.559123178] [3735] \u001b[1;32m INFO \u001b[1;37mRPI \u001b[1;34mvc4.cpp:622 \u001b[0mSensor: /base/soc/i2c0mux/i2c@1/imx708@1a - Selected sensor format: 1536x864-SBGGR10_1X10 - Selected unicam format: 1536x864-pBAA\n"
     ]
    }
   ],
   "source": [
    "cam = Camera()"
   ]
  },
  {
   "cell_type": "code",
   "execution_count": 5,
   "metadata": {},
   "outputs": [],
   "source": [
    "import torch\n",
    "from torchvision import models, transforms\n",
    "import torchvision.transforms.functional as F\n",
    "\n",
    "detection_threshold = 0.5\n",
    "preprocess_no_normalize = transforms.Compose([\n",
    "    # convert the frame to a CHW torch tensor\n",
    "    transforms.ToTensor(),\n",
    "])\n",
    "# Load object detection model. TODO: Need to quantize manually\n",
    "model = models.detection.ssdlite320_mobilenet_v3_large(weights=models.detection.SSDLite320_MobileNet_V3_Large_Weights.DEFAULT)\n",
    "model = model.eval()"
   ]
  },
  {
   "cell_type": "code",
   "execution_count": 25,
   "metadata": {},
   "outputs": [
    {
     "data": {
      "image/jpeg": "[encoded data removed]",
      "text/plain": [
       "<IPython.core.display.Image object>"
      ]
     },
     "metadata": {},
     "output_type": "display_data"
    }
   ],
   "source": [
    "display_handle = ipython.display(None, display_id=True)\n",
    "\n",
    "run_inference = True\n",
    "\n",
    "try:\n",
    "    cam.start()\n",
    "    while True:\n",
    "        frame = cam.get_frame()\n",
    "        if frame is not None:\n",
    "            if run_inference:\n",
    "                input_tensor = preprocess_no_normalize(frame)\n",
    "                input_batch = input_tensor.unsqueeze(0)\n",
    "                with torch.no_grad():\n",
    "                    # TODO: too slow. Use different thread for inference.\n",
    "                    outputs = model(input_batch)\n",
    "                    bbox = bounding_boxes(input_tensor, outputs)\n",
    "                    frame = np.array(F.to_pil_image(bbox))\n",
    "\n",
    "            _, img = cv2.imencode('.jpeg', frame)\n",
    "            display_handle.update(ipython.Image(data=img.tobytes()))\n",
    "except KeyboardInterrupt:\n",
    "    pass\n",
    "finally:\n",
    "    cam.stop()"
   ]
  },
  {
   "cell_type": "code",
   "execution_count": null,
   "metadata": {},
   "outputs": [],
   "source": [
    "# For focus: https://forums.raspberrypi.com/viewtopic.php?t=342993\n",
    "# https://www.arducam.com/raspberry-pi-camera/autofocus/\n",
    "# import os\n",
    "# focus = 500\n",
    "# ...\n",
    "# os.system(\"v4l2-ctl -d /dev/v4l-subdev1 -c focus_absolute=\" + str(focus))\n",
    "# rpistr = \"libcamera-vid -t 0 --segment 1  --codec mjpeg -n -o /run/shm/test%06d.jpg --width \" + str(wx) + \" --height \" + str(hx)\n",
    "   \n"
   ]
  }
 ],
 "metadata": {
  "kernelspec": {
   "display_name": "pi",
   "language": "python",
   "name": "pi"
  },
  "language_info": {
   "codemirror_mode": {
    "name": "ipython",
    "version": 3
   },
   "file_extension": ".py",
   "mimetype": "text/x-python",
   "name": "python",
   "nbconvert_exporter": "python",
   "pygments_lexer": "ipython3",
   "version": "3.11.2"
  }
 },
 "nbformat": 4,
 "nbformat_minor": 4
}
