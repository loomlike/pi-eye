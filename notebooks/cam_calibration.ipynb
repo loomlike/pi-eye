{
 "cells": [
  {
   "cell_type": "markdown",
   "metadata": {},
   "source": [
    "https://docs.opencv.org/3.4/d3/dc1/tutorial_basic_linear_transform.html\n",
    "\n",
    "image sharpness  - `dst = cv2.detailEnhance(src, sigma_s=10, sigma_r=0.15)`\n",
    "\n",
    "camera gain\n",
    "\n",
    "cv::VideoCapture::set(CV_CAP_PROP_EXPOSURE, value from 0 to 1)\n",
    "cv::VideoCapture::set(CV_CAP_PROP_GAIN, value from 0 to 1)"
   ]
  },
  {
   "cell_type": "code",
   "execution_count": null,
   "metadata": {},
   "outputs": [],
   "source": []
  }
 ],
 "metadata": {
  "language_info": {
   "name": "python"
  }
 },
 "nbformat": 4,
 "nbformat_minor": 2
}
