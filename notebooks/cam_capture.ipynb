{
 "cells": [
  {
   "cell_type": "markdown",
   "metadata": {},
   "source": [
    "# Camera Image Capture\n",
    "\n",
    "## Setup python dependencies\n",
    "\n",
    "```bash\n",
    "# to install picamera2\n",
    "$ sudo apt update\n",
    "$ sudo apt upgrade\n",
    "$ sudo apt install -y python3-picamera2\n",
    "\n",
    "# create venv using system packages\n",
    "$ python -m venv --system-site-packages .venv\n",
    "\n",
    "# activate venv and install additional dependencies\n",
    "$ source .venv/bin/activate\n",
    "$ pip install torch torchvision torchaudio opencv-python matplotlib jupyter\n",
    "```"
   ]
  },
  {
   "cell_type": "code",
   "execution_count": 1,
   "metadata": {},
   "outputs": [],
   "source": [
    "import cv2\n",
    "import IPython.display as ipython\n",
    "import ipywidgets as widgets\n"
   ]
  },
  {
   "cell_type": "code",
   "execution_count": 2,
   "metadata": {},
   "outputs": [
    {
     "name": "stderr",
     "output_type": "stream",
     "text": [
      "/tmp/ipykernel_706/1720371371.py:11: UserWarning: libcamera module not found. Use openCV instead.\n",
      "  warnings.warn(\"libcamera module not found. Use openCV instead.\")\n"
     ]
    }
   ],
   "source": [
    "import threading\n",
    "from time import sleep\n",
    "from typing import Tuple\n",
    "import warnings\n",
    "\n",
    "try:\n",
    "    from libcamera import controls\n",
    "    from picamera2 import Picamera2\n",
    "    is_libcamera = True\n",
    "except ModuleNotFoundError:\n",
    "    warnings.warn(\"libcamera module not found. Use openCV instead.\")\n",
    "    is_libcamera = False\n",
    "\n",
    "\n",
    "class VideoCapture(threading.Thread):\n",
    "    def __init__(self, cam, resolution):\n",
    "        super().__init__()\n",
    "        self.resolution = resolution\n",
    "        self.cam = cam\n",
    "        self.frame = None\n",
    "        self.capture = False\n",
    "    \n",
    "    def run(self):\n",
    "        try:\n",
    "            while self.capture:\n",
    "                if is_libcamera:\n",
    "                    self.frame = self.cam.capture_array()\n",
    "                else:\n",
    "                    _, self.frame = self.cam.read()\n",
    "        finally:\n",
    "            pass\n",
    "\n",
    "    def start(self):\n",
    "        self.capture = True\n",
    "        if is_libcamera:\n",
    "            self.cam = Picamera2()\n",
    "            # Picamera2.create_preview_configuration will generate a configuration suitable for displaying camera preview images on the display, or prior to capturing a still image\n",
    "            # Picamera2.create_still_configuration will generate a configuration suitable for capturing a high-resolution still image\n",
    "            # Picamera2.create_video_configuration will generate a configuration suitable for recording video files\n",
    "            self.cam.configure(self.cam.create_preview_configuration(main={\"format\": 'RGB888', \"size\": self.resolution}))\n",
    "            # There are three autoFocus modes: Manual, Auto, and Continuous\n",
    "            self.cam.set_controls({\"AfMode\": controls.AfModeEnum.Continuous})\n",
    "            self.cam.start()\n",
    "        else:\n",
    "            pass\n",
    "        sleep(1)  # delay for starting the cam\n",
    "        super().start()\n",
    "    \n",
    "    def stop(self):\n",
    "        self.capture = False\n",
    "        self.join()\n",
    "        if is_libcamera:\n",
    "            self.cam.stop()\n",
    "        else:\n",
    "            self.cam.release()\n",
    "\n",
    "\n",
    "class Camera():\n",
    "    def __init__(self, resolution: Tuple = (320, 320)):\n",
    "        self.resolution = resolution\n",
    "        self.video_capture = None  # video capture thread\n",
    "\n",
    "    def start(self):\n",
    "        self.stop()\n",
    "        \n",
    "        self.cam = cv2.VideoCapture(0)\n",
    "        self.cam.set(cv2.CAP_PROP_FRAME_WIDTH, self.resolution[0])\n",
    "        self.cam.set(cv2.CAP_PROP_FRAME_HEIGHT, self.resolution[1])    \n",
    "        \n",
    "        self.video_capture = VideoCapture(self.cam, self.resolution)\n",
    "        self.video_capture.start()\n",
    "        \n",
    "\n",
    "    def stop(self):\n",
    "        if self.video_capture is not None:\n",
    "            self.video_capture.stop()\n",
    "            self.video_capture = None\n",
    "\n",
    "    def get_frame(self):\n",
    "        if self.video_capture is not None:\n",
    "            return self.video_capture.frame\n",
    "        else:\n",
    "            return None"
   ]
  },
  {
   "cell_type": "code",
   "execution_count": 3,
   "metadata": {},
   "outputs": [],
   "source": [
    "cam = Camera()"
   ]
  },
  {
   "cell_type": "code",
   "execution_count": 4,
   "metadata": {},
   "outputs": [
    {
     "data": {
      "text/plain": [
       "None"
      ]
     },
     "metadata": {},
     "output_type": "display_data"
    },
    {
     "data": {
      "text/plain": [
       "None"
      ]
     },
     "metadata": {},
     "output_type": "display_data"
    },
    {
     "data": {
      "application/vnd.jupyter.widget-view+json": {
       "model_id": "e6e9b8c62c084ae78c9dc15bdeb8d74f",
       "version_major": 2,
       "version_minor": 0
      },
      "text/plain": [
       "Button(button_style='danger', description=' Start Camera', icon='play', style=ButtonStyle())"
      ]
     },
     "metadata": {},
     "output_type": "display_data"
    },
    {
     "data": {
      "application/vnd.jupyter.widget-view+json": {
       "model_id": "d74b92239c314668a761afcfc3c20fe7",
       "version_major": 2,
       "version_minor": 0
      },
      "text/plain": [
       "Button(description=' Capture', disabled=True, style=ButtonStyle())"
      ]
     },
     "metadata": {},
     "output_type": "display_data"
    },
    {
     "data": {
      "application/vnd.jupyter.widget-view+json": {
       "model_id": "4dbba7cbcf21468aad0d66515cf6379d",
       "version_major": 2,
       "version_minor": 0
      },
      "text/plain": [
       "Button(description='Save', disabled=True, style=ButtonStyle())"
      ]
     },
     "metadata": {},
     "output_type": "display_data"
    },
    {
     "name": "stderr",
     "output_type": "stream",
     "text": [
      "[ WARN:0@5.266] global cap_v4l.cpp:999 open VIDEOIO(V4L2:/dev/video0): can't open camera by index\n",
      "[ERROR:0@5.267] global obsensor_uvc_stream_channel.cpp:158 getStreamChannelGroup Camera index out of range\n"
     ]
    }
   ],
   "source": [
    "from collections import deque\n",
    "from time import time\n",
    "\n",
    "display_handle = ipython.display(None, display_id=True)\n",
    "captured_frame_display_handle = ipython.display(None, display_id=True)\n",
    "\n",
    "start_btn = widgets.Button(description=\" Start Camera\", button_style=\"danger\", icon=\"play\")\n",
    "capture_btn = widgets.Button(description=\" Capture\", disabled=True)\n",
    "save_btn = widgets.Button(description=\"Save\", disabled=True)\n",
    "\n",
    "is_started = False\n",
    "queue = deque()\n",
    "frame = None\n",
    "captured_frame = None\n",
    "\n",
    "def start_cam():\n",
    "    global is_started\n",
    "    global frame\n",
    "    try:\n",
    "        cam.start()\n",
    "        while is_started:\n",
    "            frame = cam.get_frame()\n",
    "            if frame is not None:\n",
    "                _, img = cv2.imencode('.jpeg', frame)\n",
    "                display_handle.update(ipython.Image(data=img.tobytes()))\n",
    "    except KeyboardInterrupt:\n",
    "        pass\n",
    "    finally:\n",
    "        cam.stop()\n",
    "\n",
    "def on_capture(b):\n",
    "    # get frame into captured_frame and display\n",
    "    global captured_frame\n",
    "    \n",
    "    captured_frame = frame\n",
    "    if captured_frame is not None:\n",
    "        save_btn.disabled = False\n",
    "        _, img = cv2.imencode('.jpeg', captured_frame)\n",
    "        captured_frame_display_handle.update(ipython.Image(data=img.tobytes()))\n",
    "\n",
    "def on_save(b):\n",
    "    # save captured_frame into a file w/ the timestamp as the name\n",
    "    global captured_frame\n",
    "    \n",
    "    if captured_frame is not None:\n",
    "        cv2.imwrite(f\"{int(time())}.jpg\", captured_frame)\n",
    "        b.disabled = True\n",
    "        captured_frame = None\n",
    "        captured_frame_display_handle.update(None)\n",
    "\n",
    "def on_start(b):\n",
    "    global is_started\n",
    "    \n",
    "    if is_started:\n",
    "        is_started = False\n",
    "        capture_btn.disabled = True\n",
    "        b.description = \" Start Camera\"\n",
    "        b.icon = \"play\"\n",
    "        if len(queue) > 0:\n",
    "            thread = queue.popleft()\n",
    "            thread.join()\n",
    "    else:\n",
    "        is_started = True\n",
    "        capture_btn.disabled = False\n",
    "        b.description = \" Stop Camera\"\n",
    "        b.icon = \"stop\"\n",
    "        \n",
    "        thread = threading.Thread(target=start_cam)\n",
    "        thread.start()\n",
    "        queue.append(thread)\n",
    "\n",
    "start_btn.on_click(on_start)\n",
    "capture_btn.on_click(on_capture)\n",
    "save_btn.on_click(on_save)\n",
    "display(start_btn, capture_btn, save_btn)"
   ]
  },
  {
   "cell_type": "code",
   "execution_count": null,
   "metadata": {},
   "outputs": [],
   "source": []
  }
 ],
 "metadata": {
  "kernelspec": {
   "display_name": "pi-eye",
   "language": "python",
   "name": "pi-eye"
  },
  "language_info": {
   "codemirror_mode": {
    "name": "ipython",
    "version": 3
   },
   "file_extension": ".py",
   "mimetype": "text/x-python",
   "name": "python",
   "nbconvert_exporter": "python",
   "pygments_lexer": "ipython3",
   "version": "3.10.14"
  }
 },
 "nbformat": 4,
 "nbformat_minor": 4
}
