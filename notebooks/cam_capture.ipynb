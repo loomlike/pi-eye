{
 "cells": [
  {
   "cell_type": "markdown",
   "metadata": {},
   "source": [
    "# Camera Image Capture\n",
    "\n",
    "## Setup python dependencies\n",
    "\n",
    "```bash\n",
    "# to install picamera2\n",
    "$ sudo apt update\n",
    "$ sudo apt upgrade\n",
    "$ sudo apt install -y python3-picamera2\n",
    "\n",
    "# create venv using system packages\n",
    "$ python -m venv --system-site-packages .venv\n",
    "\n",
    "# activate venv and install additional dependencies\n",
    "$ source .venv/bin/activate\n",
    "$ pip install torch torchvision torchaudio opencv-python matplotlib jupyter\n",
    "```"
   ]
  },
  {
   "cell_type": "code",
   "execution_count": 1,
   "metadata": {},
   "outputs": [],
   "source": [
    "import sys\n",
    "if \"..\" not in sys.path:\n",
    "    sys.path.append(\"..\")\n",
    "\n",
    "import cv2\n",
    "import IPython.display as ipython\n",
    "import ipywidgets as widgets\n",
    "\n",
    "from pieye.camera import Camera\n"
   ]
  },
  {
   "cell_type": "code",
   "execution_count": 2,
   "metadata": {},
   "outputs": [],
   "source": [
    "cam = Camera()"
   ]
  },
  {
   "cell_type": "code",
   "execution_count": 4,
   "metadata": {},
   "outputs": [
    {
     "data": {
      "image/jpeg": "[encoded data removed]",
      "text/plain": [
       "<IPython.core.display.Image object>"
      ]
     },
     "metadata": {},
     "output_type": "display_data"
    },
    {
     "data": {
      "text/plain": [
       "None"
      ]
     },
     "metadata": {},
     "output_type": "display_data"
    },
    {
     "data": {
      "application/vnd.jupyter.widget-view+json": {
       "model_id": "5bb76894500b44609f9cd60ac793f8eb",
       "version_major": 2,
       "version_minor": 0
      },
      "text/plain": [
       "Button(button_style='danger', description=' Start Camera', icon='play', style=ButtonStyle())"
      ]
     },
     "metadata": {},
     "output_type": "display_data"
    },
    {
     "data": {
      "application/vnd.jupyter.widget-view+json": {
       "model_id": "e6faf32bf2894458963d96245b43e01a",
       "version_major": 2,
       "version_minor": 0
      },
      "text/plain": [
       "Button(description=' Capture', disabled=True, style=ButtonStyle())"
      ]
     },
     "metadata": {},
     "output_type": "display_data"
    },
    {
     "data": {
      "application/vnd.jupyter.widget-view+json": {
       "model_id": "60cfaee65ee94e2ab665e86bb966c1c9",
       "version_major": 2,
       "version_minor": 0
      },
      "text/plain": [
       "Button(description='Save', disabled=True, style=ButtonStyle())"
      ]
     },
     "metadata": {},
     "output_type": "display_data"
    },
    {
     "data": {
      "application/vnd.jupyter.widget-view+json": {
       "model_id": "d48118f37eb1469681a181c797f218b4",
       "version_major": 2,
       "version_minor": 0
      },
      "text/plain": [
       "Output()"
      ]
     },
     "metadata": {},
     "output_type": "display_data"
    }
   ],
   "source": [
    "from collections import deque\n",
    "from time import time\n",
    "import threading\n",
    "\n",
    "\n",
    "display_handle = ipython.display(None, display_id=True)\n",
    "captured_frame_display_handle = ipython.display(None, display_id=True)\n",
    "\n",
    "start_btn = widgets.Button(description=\" Start Camera\", button_style=\"danger\", icon=\"play\")\n",
    "capture_btn = widgets.Button(description=\" Capture\", disabled=True)\n",
    "save_btn = widgets.Button(description=\"Save\", disabled=True)\n",
    "out = widgets.Output()\n",
    "\n",
    "is_started = False\n",
    "queue = deque()\n",
    "frame = None\n",
    "captured_frame = None\n",
    "\n",
    "\n",
    "def print_log(msg):\n",
    "    with out:\n",
    "        print(msg)\n",
    "\n",
    "\n",
    "def start_cam():\n",
    "    global is_started\n",
    "    global frame\n",
    "\n",
    "    try:\n",
    "        cam.start()\n",
    "        while is_started:\n",
    "            frame = cam.get_frame()\n",
    "            if frame is not None:\n",
    "                _, img = cv2.imencode('.jpeg', frame)\n",
    "                display_handle.update(ipython.Image(data=img.tobytes()))\n",
    "    except Exception as e:\n",
    "        print_log(e.msg)\n",
    "\n",
    "    cam.stop()\n",
    "\n",
    "\n",
    "def on_capture(b):\n",
    "    # get frame into captured_frame and display\n",
    "    global captured_frame\n",
    "    \n",
    "    captured_frame = frame\n",
    "    if captured_frame is not None:\n",
    "        save_btn.disabled = False\n",
    "        _, img = cv2.imencode('.jpeg', captured_frame)\n",
    "        captured_frame_display_handle.update(ipython.Image(data=img.tobytes()))\n",
    "\n",
    "\n",
    "def on_save(b):\n",
    "    # save captured_frame into a file w/ the timestamp as the name\n",
    "    global captured_frame\n",
    "    \n",
    "    if captured_frame is not None:\n",
    "        cv2.imwrite(f\"{int(time())}.jpg\", captured_frame)\n",
    "        b.disabled = True\n",
    "        captured_frame = None\n",
    "        captured_frame_display_handle.update(None)\n",
    "\n",
    "\n",
    "def on_start(b):\n",
    "    global is_started\n",
    "    \n",
    "    if is_started:\n",
    "        is_started = False\n",
    "        capture_btn.disabled = True\n",
    "        b.description = \" Start Camera\"\n",
    "        b.icon = \"play\"\n",
    "\n",
    "        try:\n",
    "            print_log(\"stopping camera thread\")\n",
    "    \n",
    "            if len(queue) > 0:\n",
    "                thread = queue.popleft()\n",
    "                thread.join()\n",
    "        except Exception as e:\n",
    "            print_log(e)\n",
    "    else:\n",
    "        is_started = True\n",
    "        capture_btn.disabled = False\n",
    "        b.description = \" Stop Camera\"\n",
    "        b.icon = \"stop\"\n",
    "\n",
    "        try:\n",
    "            print_log(\"starting camera thread\")\n",
    "            thread = threading.Thread(target=start_cam)\n",
    "            thread.start()\n",
    "            queue.append(thread)\n",
    "        except Exception as e:\n",
    "            print_log(e)\n",
    "            \n",
    "\n",
    "start_btn.on_click(on_start)\n",
    "capture_btn.on_click(on_capture)\n",
    "save_btn.on_click(on_save)\n",
    "display(start_btn, capture_btn, save_btn, out)"
   ]
  },
  {
   "cell_type": "code",
   "execution_count": null,
   "metadata": {},
   "outputs": [],
   "source": []
  }
 ],
 "metadata": {
  "kernelspec": {
   "display_name": "pi",
   "language": "python",
   "name": "pi"
  },
  "language_info": {
   "codemirror_mode": {
    "name": "ipython",
    "version": 3
   },
   "file_extension": ".py",
   "mimetype": "text/x-python",
   "name": "python",
   "nbconvert_exporter": "python",
   "pygments_lexer": "ipython3",
   "version": "3.11.2"
  }
 },
 "nbformat": 4,
 "nbformat_minor": 4
}
