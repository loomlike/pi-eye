{
 "cells": [
  {
   "cell_type": "markdown",
   "metadata": {},
   "source": [
    "# Camera Image Capture\n",
    "\n",
    "## Setup python dependencies\n",
    "\n",
    "```bash\n",
    "# to install picamera2\n",
    "$ sudo apt update\n",
    "$ sudo apt upgrade\n",
    "$ sudo apt install -y python3-picamera2\n",
    "\n",
    "# create venv using system packages\n",
    "$ python -m venv --system-site-packages .venv\n",
    "\n",
    "# activate venv and install additional dependencies\n",
    "$ source .venv/bin/activate\n",
    "$ pip install torch torchvision torchaudio opencv-python matplotlib jupyter\n",
    "```"
   ]
  },
  {
   "cell_type": "code",
   "execution_count": 1,
   "metadata": {},
   "outputs": [],
   "source": [
    "import cv2\n",
    "import IPython.display as ipython\n",
    "import ipywidgets as widgets\n"
   ]
  },
  {
   "cell_type": "code",
   "execution_count": 2,
   "metadata": {},
   "outputs": [],
   "source": [
    "import threading\n",
    "from time import sleep\n",
    "from typing import Tuple\n",
    "\n",
    "from libcamera import controls\n",
    "from picamera2 import Picamera2\n",
    "\n",
    "\n",
    "class VideoCapture(threading.Thread):\n",
    "    def __init__(self, cam):\n",
    "        super().__init__()\n",
    "        self.cam = cam\n",
    "        self.frame = None\n",
    "        self.capture = False\n",
    "    \n",
    "    def run(self):\n",
    "        try:\n",
    "            while self.capture:\n",
    "                self.frame = self.cam.capture_array()\n",
    "        finally:\n",
    "            pass\n",
    "\n",
    "    def start(self):\n",
    "        self.capture = True\n",
    "\n",
    "        # There are three autoFocus modes: Manual, Auto, and Continuous\n",
    "        self.cam.set_controls({\"AfMode\": controls.AfModeEnum.Continuous})\n",
    "        self.cam.start()\n",
    "        sleep(1)  # delay for starting the cam\n",
    "        super().start()\n",
    "    \n",
    "    def stop(self):\n",
    "        self.capture = False\n",
    "        self.join()\n",
    "        self.cam.stop()\n",
    "\n",
    "\n",
    "class Camera():\n",
    "    def __init__(self, resolution: Tuple = (320, 320)):\n",
    "        self.cam = Picamera2()\n",
    "        # Picamera2.create_preview_configuration will generate a configuration suitable for displaying camera preview images on the display, or prior to capturing a still image\n",
    "        # Picamera2.create_still_configuration will generate a configuration suitable for capturing a high-resolution still image\n",
    "        # Picamera2.create_video_configuration will generate a configuration suitable for recording video files\n",
    "        self.cam.configure(self.cam.create_preview_configuration(main={\"format\": 'RGB888', \"size\": resolution}))\n",
    "        self.video_capture = None\n",
    "    \n",
    "    def start(self):\n",
    "        self.stop()\n",
    "        self.video_capture = VideoCapture(self.cam)\n",
    "        self.video_capture.start()\n",
    "\n",
    "    def stop(self):\n",
    "        if self.video_capture is not None:\n",
    "            self.video_capture.stop()\n",
    "            self.video_capture = None\n",
    "\n",
    "    def get_frame(self):\n",
    "        if self.video_capture is not None:\n",
    "            return self.video_capture.frame\n",
    "        else:\n",
    "            return None"
   ]
  },
  {
   "cell_type": "code",
   "execution_count": 3,
   "metadata": {},
   "outputs": [
    {
     "name": "stderr",
     "output_type": "stream",
     "text": [
      "[0:11:13.663956001] [1649] \u001b[1;32m INFO \u001b[1;37mCamera \u001b[1;34mcamera_manager.cpp:316 \u001b[0mlibcamera v0.3.1+50-69a894c4\n",
      "[0:11:13.711003287] [1776] \u001b[1;33m WARN \u001b[1;37mRPiSdn \u001b[1;34msdn.cpp:40 \u001b[0mUsing legacy SDN tuning - please consider moving SDN inside rpi.denoise\n",
      "[0:11:13.712984403] [1776] \u001b[1;32m INFO \u001b[1;37mRPI \u001b[1;34mvc4.cpp:447 \u001b[0mRegistered camera /base/soc/i2c0mux/i2c@1/imx708@1a to Unicam device /dev/media4 and ISP device /dev/media0\n",
      "[0:11:13.713040684] [1776] \u001b[1;32m INFO \u001b[1;37mRPI \u001b[1;34mpipeline_base.cpp:1125 \u001b[0mUsing configuration file '/usr/share/libcamera/pipeline/rpi/vc4/rpi_apps.yaml'\n",
      "[0:11:13.722877670] [1649] \u001b[1;32m INFO \u001b[1;37mCamera \u001b[1;34mcamera.cpp:1191 \u001b[0mconfiguring streams: (0) 320x320-RGB888 (1) 1536x864-SBGGR10_CSI2P\n",
      "[0:11:13.723328581] [1776] \u001b[1;32m INFO \u001b[1;37mRPI \u001b[1;34mvc4.cpp:622 \u001b[0mSensor: /base/soc/i2c0mux/i2c@1/imx708@1a - Selected sensor format: 1536x864-SBGGR10_1X10 - Selected unicam format: 1536x864-pBAA\n"
     ]
    }
   ],
   "source": [
    "cam = Camera()"
   ]
  },
  {
   "cell_type": "code",
   "execution_count": 16,
   "metadata": {},
   "outputs": [
    {
     "data": {
      "image/jpeg": "[encoded data removed]",
      "text/plain": [
       "<IPython.core.display.Image object>"
      ]
     },
     "metadata": {},
     "output_type": "display_data"
    },
    {
     "data": {
      "text/plain": [
       "None"
      ]
     },
     "metadata": {},
     "output_type": "display_data"
    },
    {
     "data": {
      "application/vnd.jupyter.widget-view+json": {
       "model_id": "1048329cbcc541f9a6d2000be7dbf3cb",
       "version_major": 2,
       "version_minor": 0
      },
      "text/plain": [
       "Button(button_style='danger', description=' Start Camera', icon='play', style=ButtonStyle())"
      ]
     },
     "metadata": {},
     "output_type": "display_data"
    },
    {
     "data": {
      "application/vnd.jupyter.widget-view+json": {
       "model_id": "82c76be302ae470e946f419358ffff24",
       "version_major": 2,
       "version_minor": 0
      },
      "text/plain": [
       "Button(description=' Capture', disabled=True, style=ButtonStyle())"
      ]
     },
     "metadata": {},
     "output_type": "display_data"
    },
    {
     "data": {
      "application/vnd.jupyter.widget-view+json": {
       "model_id": "b43895b9c2fa4907a46b6e27922260fb",
       "version_major": 2,
       "version_minor": 0
      },
      "text/plain": [
       "Button(description='Save', disabled=True, style=ButtonStyle())"
      ]
     },
     "metadata": {},
     "output_type": "display_data"
    }
   ],
   "source": [
    "from collections import deque\n",
    "from time import time\n",
    "\n",
    "display_handle = ipython.display(None, display_id=True)\n",
    "captured_frame_display_handle = ipython.display(None, display_id=True)\n",
    "\n",
    "start_btn = widgets.Button(description=\" Start Camera\", button_style=\"danger\", icon=\"play\")\n",
    "capture_btn = widgets.Button(description=\" Capture\", disabled=True)\n",
    "save_btn = widgets.Button(description=\"Save\", disabled=True)\n",
    "\n",
    "is_started = False\n",
    "queue = deque()\n",
    "frame = None\n",
    "captured_frame = None\n",
    "\n",
    "def start_cam():\n",
    "    global is_started\n",
    "    global frame\n",
    "    try:\n",
    "        cam.start()\n",
    "        while is_started:\n",
    "            frame = cam.get_frame()\n",
    "            if frame is not None:\n",
    "                _, img = cv2.imencode('.jpeg', frame)\n",
    "                display_handle.update(ipython.Image(data=img.tobytes()))\n",
    "    except KeyboardInterrupt:\n",
    "        pass\n",
    "    finally:\n",
    "        cam.stop()\n",
    "\n",
    "def on_capture(b):\n",
    "    # get frame into captured_frame and display\n",
    "    global captured_frame\n",
    "    \n",
    "    captured_frame = frame\n",
    "    if captured_frame is not None:\n",
    "        save_btn.disabled = False\n",
    "        _, img = cv2.imencode('.jpeg', captured_frame)\n",
    "        captured_frame_display_handle.update(ipython.Image(data=img.tobytes()))\n",
    "\n",
    "def on_save(b):\n",
    "    # save captured_frame into a file w/ the timestamp as the name\n",
    "    global captured_frame\n",
    "    \n",
    "    if captured_frame is not None:\n",
    "        cv2.imwrite(f\"{int(time())}.jpg\", captured_frame)\n",
    "        b.disabled = True\n",
    "        captured_frame = None\n",
    "        captured_frame_display_handle.update(None)\n",
    "\n",
    "def on_start(b):\n",
    "    global is_started\n",
    "    \n",
    "    if is_started:\n",
    "        is_started = False\n",
    "        capture_btn.disabled = True\n",
    "        b.description = \" Start Camera\"\n",
    "        b.icon = \"play\"\n",
    "        if len(queue) > 0:\n",
    "            thread = queue.popleft()\n",
    "            thread.join()\n",
    "    else:\n",
    "        is_started = True\n",
    "        capture_btn.disabled = False\n",
    "        b.description = \" Stop Camera\"\n",
    "        b.icon = \"stop\"\n",
    "        \n",
    "        thread = threading.Thread(target=start_cam)\n",
    "        thread.start()\n",
    "        queue.append(thread)\n",
    "\n",
    "start_btn.on_click(on_start)\n",
    "capture_btn.on_click(on_capture)\n",
    "save_btn.on_click(on_save)\n",
    "display(start_btn, capture_btn, save_btn)"
   ]
  },
  {
   "cell_type": "code",
   "execution_count": null,
   "metadata": {},
   "outputs": [],
   "source": []
  }
 ],
 "metadata": {
  "kernelspec": {
   "display_name": "pi",
   "language": "python",
   "name": "pi"
  },
  "language_info": {
   "codemirror_mode": {
    "name": "ipython",
    "version": 3
   },
   "file_extension": ".py",
   "mimetype": "text/x-python",
   "name": "python",
   "nbconvert_exporter": "python",
   "pygments_lexer": "ipython3",
   "version": "3.11.2"
  }
 },
 "nbformat": 4,
 "nbformat_minor": 4
}
