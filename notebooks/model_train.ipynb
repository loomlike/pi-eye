{
 "cells": [
  {
   "cell_type": "code",
   "execution_count": 1,
   "id": "72961736-d313-4c51-ae8c-5bb3b2e53776",
   "metadata": {},
   "outputs": [],
   "source": [
    "%reload_ext autoreload\n",
    "%autoreload 2"
   ]
  },
  {
   "cell_type": "code",
   "execution_count": 12,
   "id": "88abbe61-4675-4b4b-b609-309797cc5bcd",
   "metadata": {},
   "outputs": [],
   "source": [
    "import sys\n",
    "if \"..\" not in sys.path:\n",
    "    sys.path.append(\"..\")  # Append pieye module root to sys.path\n",
    "\n",
    "from torch.utils.data import DataLoader\n",
    "from torchvision import datasets, models, transforms\n",
    "\n",
    "from pieye.data import ClassificationDataset, get_filepaths"
   ]
  },
  {
   "cell_type": "markdown",
   "id": "d018a86f-5435-4d42-a17a-d22484447107",
   "metadata": {},
   "source": [
    "### Load Data"
   ]
  },
  {
   "cell_type": "code",
   "execution_count": 6,
   "id": "8ebfc7f1-ac6b-4c90-b3a3-515d6e0495ee",
   "metadata": {},
   "outputs": [],
   "source": [
    "data_transforms = {\n",
    "    'train': transforms.Compose([\n",
    "        transforms.RandomResizedCrop((224, 224)),\n",
    "        transforms.RandomHorizontalFlip(),\n",
    "        transforms.ToTensor(),\n",
    "        transforms.Normalize([0.485, 0.456, 0.406], [0.229, 0.224, 0.225])\n",
    "    ]),\n",
    "    'val': transforms.Compose([\n",
    "        transforms.Resize(256),\n",
    "        transforms.CenterCrop(224),\n",
    "        transforms.ToTensor(),\n",
    "        transforms.Normalize([0.485, 0.456, 0.406], [0.229, 0.224, 0.225])\n",
    "    ]),\n",
    "}\n",
    "dataset = ClassificationDataset(annotations_filepath=\"../samples/annotations.txt\", images_dir=\"../samples/images\", transforms=data_transforms)"
   ]
  },
  {
   "cell_type": "code",
   "execution_count": 7,
   "id": "85f51bf9-28ec-4f8f-8bca-deb34b5b96cb",
   "metadata": {},
   "outputs": [
    {
     "data": {
      "text/plain": [
       "11"
      ]
     },
     "execution_count": 7,
     "metadata": {},
     "output_type": "execute_result"
    }
   ],
   "source": [
    "len(dataset)"
   ]
  },
  {
   "cell_type": "code",
   "execution_count": 8,
   "id": "46114e8d-f2b7-42fd-b936-235dc7e6cafd",
   "metadata": {},
   "outputs": [
    {
     "data": {
      "text/plain": [
       "(tensor([[[ 94,  94,  94,  ..., 133, 133, 133],\n",
       "          [ 95,  94,  94,  ..., 133, 133, 133],\n",
       "          [ 95,  95,  95,  ..., 134, 134, 133],\n",
       "          ...,\n",
       "          [126, 128, 128,  ..., 103, 103, 103],\n",
       "          [125, 125, 125,  ..., 104, 102, 102],\n",
       "          [124, 124, 123,  ..., 103, 101, 100]],\n",
       " \n",
       "         [[112, 112, 112,  ..., 168, 166, 166],\n",
       "          [113, 112, 112,  ..., 166, 166, 166],\n",
       "          [113, 113, 113,  ..., 168, 168, 166],\n",
       "          ...,\n",
       "          [115, 117, 117,  ...,  97,  97,  97],\n",
       "          [117, 117, 117,  ...,  98,  99,  99],\n",
       "          [116, 116, 115,  ...,  97,  98,  97]],\n",
       " \n",
       "         [[ 98,  98,  96,  ..., 198, 201, 201],\n",
       "          [ 99,  98,  96,  ..., 197, 199, 199],\n",
       "          [ 99,  99,  97,  ..., 196, 196, 197],\n",
       "          ...,\n",
       "          [ 95,  97,  97,  ...,  81,  81,  81],\n",
       "          [ 94,  94,  94,  ...,  82,  82,  82],\n",
       "          [ 93,  93,  92,  ...,  81,  81,  80]]], dtype=torch.uint8),\n",
       " 0)"
      ]
     },
     "execution_count": 8,
     "metadata": {},
     "output_type": "execute_result"
    }
   ],
   "source": [
    "dataset[2]"
   ]
  },
  {
   "cell_type": "code",
   "execution_count": null,
   "id": "fc0e49b2-8e11-4bc8-ac61-62e990f9185a",
   "metadata": {},
   "outputs": [],
   "source": [
    "dataloader = DataLoader(dataset, batch_size=4, shuffle=True,  num_workers=4)\n"
   ]
  }
 ],
 "metadata": {
  "kernelspec": {
   "display_name": "pi",
   "language": "python",
   "name": "pi"
  },
  "language_info": {
   "codemirror_mode": {
    "name": "ipython",
    "version": 3
   },
   "file_extension": ".py",
   "mimetype": "text/x-python",
   "name": "python",
   "nbconvert_exporter": "python",
   "pygments_lexer": "ipython3",
   "version": "3.11.2"
  }
 },
 "nbformat": 4,
 "nbformat_minor": 5
}
